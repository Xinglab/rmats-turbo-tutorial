{
 "cells": [
  {
   "cell_type": "code",
   "execution_count": 23,
   "metadata": {
    "ExecuteTime": {
     "end_time": "2022-12-21T08:42:29.189858Z",
     "start_time": "2022-12-21T08:42:22.658009Z"
    }
   },
   "outputs": [],
   "source": [
    "%load_ext rpy2.ipython\n",
    "import warnings\n",
    "warnings.filterwarnings('ignore')"
   ]
  },
  {
   "cell_type": "markdown",
   "metadata": {},
   "source": [
    "### Download and decompress raw rMATS-turbo output file for CCLE dataset\n",
    "- **<font color='red'>This step is optional and is omitted by default</font>** since in the plot step, there will be an example dataset (with a smaller subset of events) for illustration purpose. Users can remove the `%%script false` in the following cell to enable it.\n",
    "- **<font color='red'>Note that the downloading step takes longer to execute.</font>** It is better to run it using command line."
   ]
  },
  {
   "cell_type": "code",
   "execution_count": 12,
   "metadata": {
    "ExecuteTime": {
     "end_time": "2022-12-21T08:32:19.577563Z",
     "start_time": "2022-12-21T08:32:19.445670Z"
    }
   },
   "outputs": [],
   "source": [
    "%%script false\n",
    "%%bash\n",
    "mkdir -p ./CCLE/rmats\n",
    "cd ./CCLE/rmats\n",
    "wget https://zenodo.org/record/6647024/files/CCLE.tar.gz  # This steps takes a long time.\n",
    "tar -zxvf CCLE.tar.gz\n",
    "mv CCLE post_1019"
   ]
  },
  {
   "cell_type": "markdown",
   "metadata": {},
   "source": [
    "### Filtering of rMATS-turbo result\n",
    "- **<font color='red'>This step is optional and is omitted by default</font>** since in the plot step, there will be an example dataset (with a smaller subset of events) for illustration purpose. Users can remove the `%%script false` in the following cell to enable it.\n",
    "- **<font color='red'>Note that this step will take long to finish since the input file contains a huge number of events.</font>** It is better to run it outside of Jupyter Notebook.\n",
    "- folders contain the input file: ./CCLE/rmats/post_1019/\n",
    "- folders contain the output file: ./CCLE/rmats_filtering/"
   ]
  },
  {
   "cell_type": "code",
   "execution_count": 16,
   "metadata": {
    "ExecuteTime": {
     "end_time": "2022-12-21T08:35:30.726971Z",
     "start_time": "2022-12-21T08:35:30.557515Z"
    },
    "scrolled": true
   },
   "outputs": [],
   "source": [
    "%%script false\n",
    "import os, sys\n",
    "import numpy as np\n",
    "import math\n",
    "\n",
    "sys.path.append(os.path.abspath(\"./scripts\"))\n",
    "from class_exon import get_exon_class\n",
    "\n",
    "def read_rMATS(fn, readCov, minPSI, maxPSI, sigFDR, sigDeltaPSI, bgFDR, bgWithinGroupDeltaPSI):\n",
    "    exon, event_type = get_exon_class(fn)\n",
    "    filtered_event_list = []\n",
    "    up_event_list = []\n",
    "    dn_event_list = []\n",
    "    bg_event_list = []\n",
    "    with open(fn, \"r\") as f:\n",
    "        header = f.readline()\n",
    "        for line in f:\n",
    "            x = exon(line)\n",
    "            if (\n",
    "                x.averageCountSample1 >= readCov\n",
    "                and x.averageCountSample2 >= readCov\n",
    "                and np.nanquantile(x.IncLevel1 + x.IncLevel2, 0.05) <= maxPSI\n",
    "                and np.nanquantile(x.IncLevel1 + x.IncLevel2, 0.95) >= minPSI\n",
    "                and len(x.chrom) <= 5\n",
    "            ):\n",
    "                filtered_event_list.append(x)\n",
    "                if x.FDR <= sigFDR:\n",
    "                    if x.IncLevelDifference >= sigDeltaPSI:\n",
    "                        dn_event_list.append(x)\n",
    "                    elif x.IncLevelDifference <= -sigDeltaPSI:\n",
    "                        up_event_list.append(x)\n",
    "                elif (\n",
    "                    x.FDR >= bgFDR\n",
    "                    and max(x.IncLevel1) - min(x.IncLevel1) <= bgWithinGroupDeltaPSI\n",
    "                    and max(x.IncLevel2) - min(x.IncLevel2) <= bgWithinGroupDeltaPSI\n",
    "                ):\n",
    "                    bg_event_list.append(x)\n",
    "            # considering cases when --b2 is not provided.\n",
    "            elif (\n",
    "                x.averageCountSample1 >= readCov\n",
    "                and math.isnan(x.averageCountSample2)\n",
    "                and np.nanquantile(x.IncLevel1 + x.IncLevel2, 0.05) <= maxPSI\n",
    "                and np.nanquantile(x.IncLevel1 + x.IncLevel2, 0.95) >= minPSI\n",
    "                and len(x.chrom) <= 5\n",
    "            ):\n",
    "                filtered_event_list.append(x)\n",
    "    event_dict = {\n",
    "        \"upregulated\": up_event_list,\n",
    "        \"downregulated\": dn_event_list,\n",
    "        \"background\": bg_event_list,\n",
    "        \"filtered\": filtered_event_list,\n",
    "    }\n",
    "    return header, event_dict\n",
    "\n",
    "\n",
    "if __name__ == \"__main__\":\n",
    "    fn_rmats = './CCLE/rmats/post_1019/SE.MATS.JC.txt'\n",
    "    dir_output = './CCLE/rmats_filtering'\n",
    "    if not os.path.exists(dir_output):\n",
    "        os.makedirs(dir_output)\n",
    "    fn_up, fn_dn, fn_bg, fn_filtered = [os.path.join(dir_output, i + os.path.basename(fn_rmats)) \n",
    "                                        for i in [\"up_\", \"dn_\", \"bg_\", \"filtered_\"]]\n",
    "\n",
    "    #### FILTERING PARAMETERS ####\n",
    "    # defalt filtering parameter\n",
    "    readCov = 20\n",
    "    minPSI = 0.05\n",
    "    maxPSI = 0.95\n",
    "    sigFDR = 0.01\n",
    "    sigDeltaPSI = 0.05\n",
    "    bgFDR = 0.5\n",
    "    bgWithinGroupDeltaPSI = 0.2\n",
    "    \n",
    "    #### RUN ####\n",
    "    header, event_dict = read_rMATS(\n",
    "        fn_rmats, readCov, minPSI, maxPSI, sigFDR, sigDeltaPSI, bgFDR, bgWithinGroupDeltaPSI\n",
    "    )\n",
    "    with open(fn_filtered, \"w\") as f:\n",
    "        f.write(header)\n",
    "        for event in event_dict[\"filtered\"]:\n",
    "            f.write(str(event))\n",
    "    if len(event_dict[\"upregulated\"]) > 0 or len(event_dict[\"downregulated\"]) > 0 or len(event_dict[\"background\"]) > 0:\n",
    "        with open(fn_up, \"w\") as f:\n",
    "            f.write(header)\n",
    "            for event in event_dict[\"upregulated\"]:\n",
    "                f.write(str(event))\n",
    "        with open(fn_dn, \"w\") as f:\n",
    "            f.write(header)\n",
    "            for event in event_dict[\"downregulated\"]:\n",
    "                f.write(str(event))\n",
    "        with open(fn_bg, \"w\") as f:\n",
    "            f.write(header)\n",
    "            for event in event_dict[\"background\"]:\n",
    "                f.write(str(event))\n"
   ]
  },
  {
   "cell_type": "markdown",
   "metadata": {},
   "source": [
    "### Extract PSI value from rMATS-turbo result\n",
    "- **<font color='red'>This step is optional and is omitted by default</font>** since in the plot step, there will be an example dataset (with a smaller subset of events) for illustration purpose. Users can remove the `%%script false` in the following cell to enable it.\n",
    "- **<font color='red'>Note that this step will take long to finish since the input file contains a huge number of events.</font>** It is better to run it using command line.\n",
    "- Input file: \n",
    "    - `./CCLE/rmats/post_1019/SE.MATS.JC.txt`\n",
    "- Output file: \n",
    "    - `./CCLE/rmats/psi/SE.MATS.JC_COUNT.txt`\n",
    "    - `./CCLE/rmats/psi/SE.MATS.JC_PSI.txt`\n",
    "    - `./CCLE/rmats_filtering/filtered_SE.MATS.JC_PSI.txt`"
   ]
  },
  {
   "cell_type": "code",
   "execution_count": 21,
   "metadata": {
    "ExecuteTime": {
     "end_time": "2022-12-21T08:41:56.577972Z",
     "start_time": "2022-12-21T08:41:56.435303Z"
    }
   },
   "outputs": [],
   "source": [
    "%%script false\n",
    "%%bash\n",
    "sc_PSI_count=./scripts/extract_PSI_count.py\n",
    "declare -a event_array=(\"SE\")     # only look at SE events. Other available option: 'RI', 'MXE', 'A5SS', 'A3SS'\n",
    "declare -a counttype_array=(\"JC\") # only look at JC count type. Other available option: 'JCEC'\n",
    "\n",
    "mkdir -p ./CCLE/rmats/psi\n",
    "for event in \"${event_array[@]}\"; do\n",
    "    for counttype in \"${counttype_array[@]}\"; do\n",
    "        python $sc_PSI_count ./CCLE/rmats/post_1019/${event}.MATS.${counttype}.txt ./CCLE/rmats/psi\n",
    "    done\n",
    "done\n",
    "\n",
    "######## insert sample IDs #########\n",
    "metadata=./CCLE/metadata/metadata.txt\n",
    "samples=$(awk -F '\\t' '{print $1}' ${metadata} | tr '\\n' '\\t' | sed 's/\\t$/\\n/')\n",
    "sed -i \"1i ID\\t${samples}\" ./CCLE/rmats/psi/*_COUNT.txt\n",
    "sed -i \"1i ID\\t${samples}\" ./CCLE/rmats/psi/*_PSI.txt\n",
    "\n",
    "awk -F '\\t' 'FNR==NR{a[$1]=$1;next} ($1 in a) {print $0}' \\\n",
    "    ./CCLE/rmats_filtering/filtered_SE.MATS.JC.txt \\\n",
    "    ./CCLE/rmats/psi/SE.MATS.JC_PSI.txt \\\n",
    "    > ./CCLE/rmats_filtering/filtered_SE.MATS.JC_PSI.txt\n"
   ]
  },
  {
   "cell_type": "markdown",
   "metadata": {},
   "source": [
    "### Prep: EMT score calculation\n",
    "- **<font color='red'>This step is optional</font>** since the output matrix `./CCLE/plot_heatmap/EMT_score_CCLE.txt` has already been provided in the GitHub repository.\n",
    "- Input files:\n",
    "    - `./CCLE/plot_heatmap/EMT_signature_genes_in_gencode.v31lift37.txt`: file contains 207 EMT signature genes\n",
    "    - `./CCLE/exp/exp_FPKM_EMT_signature_genes_in_gencode.v31lift37.txt`: file contains the expression value of 207 signature genes for all samples. Dimention genes x samples\n",
    "- Output matrix:\n",
    "    - output matrix would be a matrix with three columns (STATISTIC, pval, fdr)\n",
    "        - where STATISTIC represent the KS Statistics, -1 -- more epithelial; 1 -- more mysenchymal\n",
    "    - the matrix will be stored in `./CCLE/plot_heatmap/EMT_score_CCLE.txt`."
   ]
  },
  {
   "cell_type": "code",
   "execution_count": 2,
   "metadata": {
    "ExecuteTime": {
     "end_time": "2022-08-02T01:42:26.802985Z",
     "start_time": "2022-08-02T01:42:26.161821Z"
    }
   },
   "outputs": [],
   "source": [
    "%%R\n",
    "library(zeallot)\n",
    "KS_test <- function(x, y) {\n",
    "    n.x <- length(x)\n",
    "    n.y <- length(y)\n",
    "\n",
    "    w <- c(x, y)\n",
    "\n",
    "    z <- cumsum(ifelse(order(w) <= n.x, 1/n.x, -1/n.y))\n",
    "    z <- z[c(which(diff(sort(w)) != 0), n.x + n.y)] #exclude ties\n",
    "\n",
    "    alternative <- \"two.sided\"\n",
    "    STATISTIC <- switch(alternative, two.sided = z[which.max(abs(z))], \n",
    "                        greater = max(z), less = -min(z))\n",
    "\n",
    "    test = ks.test(x, y)\n",
    "    return(c(STATISTIC, test$p.value))\n",
    "}\n",
    "\n",
    "exp2EMT <- function(exp, signature) {\n",
    "    # exp is a matrix of expression value; colname is sample name\n",
    "    # signature is a vector of EMT signature corresponding to the rows of exp matrix\n",
    "    result = data.frame(STATISTIC = NULL, pval = NULL)\n",
    "    for (sample in colnames(exp)) {\n",
    "        exp_E <- exp[which(signature == 'Epi'), sample]\n",
    "        exp_M <- exp[which(signature == 'Mes'), sample]\n",
    "        c(STATISTIC, pval) %<-% KS_test(exp_E, exp_M)\n",
    "        result = rbind(result, data.frame(STATISTIC= STATISTIC, pval = pval))\n",
    "    }\n",
    "    rownames(result) = colnames(exp)\n",
    "    return(result)\n",
    "}"
   ]
  },
  {
   "cell_type": "code",
   "execution_count": 3,
   "metadata": {
    "ExecuteTime": {
     "end_time": "2022-08-02T01:42:29.946810Z",
     "start_time": "2022-08-02T01:42:27.738707Z"
    }
   },
   "outputs": [],
   "source": [
    "%%R\n",
    "exp <- read.table('./CCLE/exp/exp_FPKM_EMT_signature_genes_in_gencode.v31lift37.txt', header = T, sep = '\\t', quote = '', stringsAsFactors = FALSE, row.names = 1)\n",
    "EMT_gene <- read.table('./CCLE/plot_heatmap/EMT_signature_genes_in_gencode.v31lift37.txt', header = T, sep = '\\t', quote = '', stringsAsFactors = FALSE, row.names = 7)\n",
    "result = exp2EMT(exp[, -c(1)], EMT_gene[rownames(exp), 'EM_Signature'])\n",
    "result$fdr = p.adjust(result$pval)\n",
    "write.table(result, './CCLE/plot_heatmap/EMT_score_CCLE.txt', row.names = T, col.names = T, quote = FALSE, sep = '\\t')"
   ]
  },
  {
   "cell_type": "markdown",
   "metadata": {
    "ExecuteTime": {
     "end_time": "2022-04-29T06:59:45.720076Z",
     "start_time": "2022-04-29T06:59:45.709855Z"
    }
   },
   "source": [
    "### Plot Heatmap\n",
    "- Input files\n",
    "    - `./CCLE/plot_heatmap/EMT_score_CCLE.txt`: EMT score matrix generated by running the code described earlier\n",
    "    - `./CCLE/plot_heatmap/EMT_EMBO.txt`: EMT score retreived from reference paper (EMBO)\n",
    "    - `./CCLE/plot_heatmap/EMT_NBT.txt`: EMT classification retreived from reference paper (NBT)\n",
    "    - `./CCLE/plot_heatmap/example_subset_SE.MATS.JC_PSI.txt`: PSI value extracted from rMATS-turbo output; using a subset of events for illustration purpose. Users can also get the PSI value for the full list of events `./CCLE/rmats_filtering/filtered_SE.MATS.JC_PSI.txt` by running the code descriped ealier:\n",
    "        - Download and decompress raw rMATS-turbo output file for CCLE dataset\n",
    "        - Filtering of rMATS-turbo result\n",
    "        - Extract PSI value from rMATS-turbo result"
   ]
  },
  {
   "cell_type": "markdown",
   "metadata": {},
   "source": [
    "#### calculate correlation between PSI value and EMT score\n",
    "- **<font color='red'>This step is optional</font>** since the output matrix `./CCLE/plot_heatmap/CCLE_correlation_EMT-filteredPSI.txt` has already been provided in the GitHub repository.\n",
    "- Output:\n",
    "    - `./CCLE/plot_heatmap/CCLE_correlation_EMT-filteredPSI.txt`: correlation between EMT score and PSI value\n",
    "- Note:\n",
    "    - This step will take several minutes to process if the input file contains lots of events (e.g. ~8min for 50,000 events)"
   ]
  },
  {
   "cell_type": "code",
   "execution_count": 24,
   "metadata": {
    "ExecuteTime": {
     "end_time": "2022-12-21T08:42:59.721584Z",
     "start_time": "2022-12-21T08:42:37.451974Z"
    }
   },
   "outputs": [],
   "source": [
    "%%R\n",
    "EMT <- read.table('./CCLE/plot_heatmap/EMT_score_CCLE.txt', header = T, sep = '\\t', stringsAsFactor = F, quote = \"\", check.name = F)\n",
    "PSI <- read.table('./CCLE/plot_heatmap/example_subset_SE.MATS.JC_PSI.txt', header = T, sep = '\\t', row.names = 1, quote = \"\", stringsAsFactor = F)\n",
    "\n",
    "result = list()\n",
    "for (ID in rownames(PSI)){\n",
    "    mydf = data.frame(EMT = EMT$STATISTIC, PSI = as.numeric(PSI[ID, rownames(EMT)]))\n",
    "    fit <- lm(EMT ~ PSI, data = mydf)\n",
    "    fit_summary = summary(fit)\n",
    "    result[[ID]] = setNames(c(fit_summary$r.squared, fit$coefficient[2], fit$coefficient[1]), \n",
    "                            c('r.squared', 'coefficient', 'intercept'))\n",
    "}\n",
    "myresult = do.call(rbind, result)\n",
    "\n",
    "write.table(myresult, './CCLE/plot_heatmap/CCLE_correlation_EMT-filteredPSI.txt', sep = '\\t', quote = FALSE, row.names = T, col.names = T)\n"
   ]
  },
  {
   "cell_type": "markdown",
   "metadata": {},
   "source": [
    "#### Filter out events whose PSI value is highly correlated with EMT score (R2 > 0.4)\n",
    "- Output\n",
    "    - `./CCLE/plot_heatmap/r2_0.4_SE.MATS.JC_PSI.txt`: PSI values of events highly correlated with EMT scores"
   ]
  },
  {
   "cell_type": "code",
   "execution_count": 5,
   "metadata": {
    "ExecuteTime": {
     "end_time": "2022-08-02T01:43:38.463256Z",
     "start_time": "2022-08-02T01:43:37.562076Z"
    }
   },
   "outputs": [],
   "source": [
    "%%bash\n",
    "cd ./CCLE/plot_heatmap\n",
    "awk -F '\\t' '($2 > 0.4) {print $0}' CCLE_correlation_EMT-filteredPSI.txt > r2_0.4_CCLE_correlation_EMT-filteredPSI.txt\n",
    "sed -i '1s/^/ID\\t/' r2_0.4_CCLE_correlation_EMT-filteredPSI.txt\n",
    "awk -F '\\t' 'FNR==NR{a[$1]=$1;next} ($1 in a) {print $0}' r2_0.4_CCLE_correlation_EMT-filteredPSI.txt example_subset_SE.MATS.JC_PSI.txt > r2_0.4_SE.MATS.JC_PSI.txt\n",
    "rm r2_0.4_CCLE_correlation_EMT-filteredPSI.txt"
   ]
  },
  {
   "cell_type": "markdown",
   "metadata": {},
   "source": [
    "#### Plot"
   ]
  },
  {
   "cell_type": "code",
   "execution_count": 6,
   "metadata": {
    "ExecuteTime": {
     "end_time": "2022-08-02T01:43:49.695832Z",
     "start_time": "2022-08-02T01:43:40.346779Z"
    }
   },
   "outputs": [
    {
     "data": {
      "text/plain": [
       "png \n",
       "  2 \n"
      ]
     },
     "metadata": {},
     "output_type": "display_data"
    }
   ],
   "source": [
    "%%R\n",
    "library(circlize)\n",
    "library(ComplexHeatmap)\n",
    "set.seed(1993)\n",
    "\n",
    "# EMT score and cell line annotation metadata\n",
    "EMT_score <- read.table('./CCLE/plot_heatmap/EMT_score_CCLE.txt', header = T, sep = '\\t', stringsAsFactor = F, quote = \"\", check.name = F)\n",
    "metadata <- read.table('./CCLE/metadata/metadata.txt', header = T, sep = '\\t', stringsAsFactor = FALSE, quote = \"\", check.name = F, row.names = 1)\n",
    "EMT <- cbind(EMT_score, metadata[rownames(EMT_score), ])\n",
    "EMT <- EMT[with(EMT, order(Tissue, STATISTIC)),]\n",
    "\n",
    "# from EMBO paper\n",
    "EMT_score_EMBO <- read.table('./CCLE/plot_heatmap/EMT_EMBO.txt', header = T, sep = '\\t', stringsAsFactor = F, quote = \"\", check.name = F, row.names = 1)\n",
    "EMT_score_EMBO = EMT_score_EMBO[rownames(EMT), ]\n",
    "EMT_EMBO = apply(EMT_score_EMBO, 1, \n",
    "      FUN = function(x){\n",
    "          score = as.numeric(x['Generic.EMT.CL.Ksscore'])\n",
    "          pval = as.numeric(x['Generic.EMT.CL.pv'])\n",
    "          if (is.na(score)) {\n",
    "              EM = NA\n",
    "          } else if (score < 0) {\n",
    "              EM = ifelse(pval < 0.05, 'Epi', 'intermediate Epi')\n",
    "          } else {\n",
    "              EM = ifelse(pval < 0.05, 'Mes', 'intermediate Mes')\n",
    "          }\n",
    "          return(EM)\n",
    "      })\n",
    "\n",
    "\n",
    "# from NBT paper\n",
    "EMT_NBT <- read.table('./CCLE/plot_heatmap/EMT_NBT.txt', header = T, sep = '\\t', stringsAsFactor = F, quote = \"\", check.name = F, row.names = 1)\n",
    "EMT_NBT <- EMT_NBT[rownames(EMT), ]\n",
    "EMT_NBT[which(EMT_NBT$EMT_status == 'Epithelial'), 'EMT_status'] = 'Epi'\n",
    "EMT_NBT[which(EMT_NBT$EMT_status == 'Mesenchymal'), 'EMT_status'] = 'Mes'\n",
    "EMT_NBT[which(EMT_NBT$EMT_status == 'OtherEMT'), 'EMT_status'] = 'Other'\n",
    "\n",
    "################ ht_CCLE ################\n",
    "mydf <- read.table('./CCLE/plot_heatmap/r2_0.4_SE.MATS.JC_PSI.txt', header = T, sep = '\\t', row.names = 1, quote = \"\", stringsAsFactor = F)\n",
    "mydf_CCLE <- mydf[, rownames(EMT)]\n",
    "mat <- t(apply(mydf_CCLE, 1, scale))\n",
    "\n",
    "\n",
    "column_ha = HeatmapAnnotation(#'EMT score' = anno1,\n",
    "                              'EMT score' = anno_points(EMT$STATISTIC, \n",
    "                                                        ylim = c(-1, 1), \n",
    "                                                        size = unit(0.8, \"mm\"),\n",
    "                                                        gp = gpar(col = ifelse(EMT$STATISTIC > 0 & EMT$pval < 0.05, \"dodgerblue4\", ifelse(EMT$STATISTIC < -0 & EMT$pval < 0.05, \"orangered4\", \"grey\"))),\n",
    "                                                        axis_param = list(side = \"left\", at = c(-1, 0, 1), labels = c(\"Epi -1\", \"0\", \"Mes  1\"))\n",
    "                                                         ), \n",
    "                              'Tan et al., 2014' = factor(EMT_EMBO, levels = c('Epi', 'intermediate Epi', 'intermediate Mes', 'Mes', 'NA')), \n",
    "                              'Klijn et al., 2015' = factor(EMT_NBT$EMT_status, levels = c('Epi', 'Other', 'Mes', 'NA')),\n",
    "                              'disease stage' = factor(EMT$disease_stage, levels = c('benign_neoplasia', 'primary', 'metastasis')),\n",
    "                              'tissue' = EMT$Tissue,\n",
    "                              col = list('disease stage' = c(\"benign_neoplasia\" = \"darkgrey\", \"primary\" = \"turquoise\", \"metastasis\" = \"deeppink\"),\n",
    "                                         'Tan et al., 2014' = c('Epi' = 'orangered4', 'intermediate Epi' = 'orangered', 'intermediate Mes' = 'dodgerblue', 'Mes' = 'dodgerblue4', 'NA' = 'white'), \n",
    "                                         'Klijn et al., 2015' = c('Epi' = 'orangered4', 'Other' = 'grey', 'Mes' = 'dodgerblue4', 'NA' = 'white')), \n",
    "                              na_col = \"white\")\n",
    "lgd_EMT = Legend(labels = c('Epi', 'intermediate', 'Mes'), legend_gp = gpar(fill = c('orangered4', 'grey', 'dodgerblue4')), title = \"EMT score\")\n",
    "\n",
    "\n",
    "ht_CCLE  = Heatmap(mat, \n",
    "            show_row_names = FALSE,\n",
    "            na_col = \"gray30\",\n",
    "            column_split = EMT$Tissue,\n",
    "            top_annotation = column_ha,\n",
    "            # right_annotation = row_ha,\n",
    "            cluster_columns = F, \n",
    "            heatmap_legend_param = list(\n",
    "                title = \"CCLE PSI Z-Score\",\n",
    "                legend_height = unit(4, \"cm\"),\n",
    "                #direction = \"horizontal\",\n",
    "                title_position = \"leftcenter-rot\"),\n",
    "            column_title = 'Cancer Cell Line Encyclopedia (CCLE)'\n",
    "        )\n",
    "\n",
    "################ PLOT ################\n",
    "pdf(\"./CCLE/plot_heatmap/plot_heatmap_sortedByEMT_usingCorrelation.pdf\", width = 15, height = 6)\n",
    "lgd_list = list('EMT score' = lgd_EMT)\n",
    "\n",
    "ht = draw(\n",
    "    ht_CCLE,\n",
    "    annotation_legend_list = lgd_list,\n",
    "    annotation_legend_side = \"right\",\n",
    "    heatmap_legend_side = \"right\"\n",
    ")\n",
    "\n",
    "dev.off()"
   ]
  },
  {
   "cell_type": "code",
   "execution_count": null,
   "metadata": {},
   "outputs": [],
   "source": []
  }
 ],
 "metadata": {
  "kernelspec": {
   "display_name": "Python 2",
   "language": "python",
   "name": "python2"
  },
  "language_info": {
   "codemirror_mode": {
    "name": "ipython",
    "version": 2
   },
   "file_extension": ".py",
   "mimetype": "text/x-python",
   "name": "python",
   "nbconvert_exporter": "python",
   "pygments_lexer": "ipython2",
   "version": "2.7.15"
  },
  "toc": {
   "base_numbering": 1,
   "nav_menu": {},
   "number_sections": true,
   "sideBar": true,
   "skip_h1_title": false,
   "title_cell": "Table of Contents",
   "title_sidebar": "Contents",
   "toc_cell": false,
   "toc_position": {
    "height": "calc(100% - 180px)",
    "left": "10px",
    "top": "150px",
    "width": "240px"
   },
   "toc_section_display": true,
   "toc_window_display": true
  }
 },
 "nbformat": 4,
 "nbformat_minor": 2
}
